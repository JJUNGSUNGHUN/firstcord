{
  "nbformat": 4,
  "nbformat_minor": 0,
  "metadata": {
    "colab": {
      "provenance": [],
      "authorship_tag": "ABX9TyPp7zTSIaTCiwHipv2Z/qGb",
      "include_colab_link": true
    },
    "kernelspec": {
      "name": "python3",
      "display_name": "Python 3"
    },
    "language_info": {
      "name": "python"
    }
  },
  "cells": [
    {
      "cell_type": "markdown",
      "metadata": {
        "id": "view-in-github",
        "colab_type": "text"
      },
      "source": [
        "<a href=\"https://colab.research.google.com/github/JJUNGSUNGHUN/firstcord/blob/main/CT2nd_code.ipynb\" target=\"_parent\"><img src=\"https://colab.research.google.com/assets/colab-badge.svg\" alt=\"Open In Colab\"/></a>"
      ]
    },
    {
      "cell_type": "markdown",
      "source": [
        "2 번째 코딩\n",
        " -사용자로부터 3개의 값을 받아서 합을내고.\n",
        " 평균을 출력하는 코드"
      ],
      "metadata": {
        "id": "JzrJqloBKbRm"
      }
    },
    {
      "cell_type": "code",
      "execution_count": 21,
      "metadata": {
        "colab": {
          "base_uri": "https://localhost:8080/"
        },
        "id": "GScQrjlQGkSI",
        "outputId": "7e79aa8e-6921-422b-fc0b-37b45e568002"
      },
      "outputs": [
        {
          "output_type": "stream",
          "name": "stdout",
          "text": [
            "N1의 값을 입력하시오.:100\n",
            "N2의 값을 입력하시오.:200\n",
            "N3의 값을 입력하시오.:1000\n",
            "433.3333333333333\n"
          ]
        }
      ],
      "source": [
        "n1=int(input(\"N1의 값을 입력하시오.:\"))\n",
        "n2=int(input(\"N2의 값을 입력하시오.:\"))\n",
        "n3=int(input(\"N3의 값을 입력하시오.:\"))\n",
        "total=n1+n2+n3\n",
        "average=total/3\n",
        "print(average)\n",
        "\n",
        "\n",
        "\n",
        "\n",
        "\n",
        "\n"
      ]
    }
  ]
}