{
  "nbformat": 4,
  "nbformat_minor": 0,
  "metadata": {
    "colab": {
      "provenance": [],
      "authorship_tag": "ABX9TyMNgdZ9WTRorp+5LfzNoP5O",
      "include_colab_link": true
    },
    "kernelspec": {
      "name": "python3",
      "display_name": "Python 3"
    },
    "language_info": {
      "name": "python"
    }
  },
  "cells": [
    {
      "cell_type": "markdown",
      "metadata": {
        "id": "view-in-github",
        "colab_type": "text"
      },
      "source": [
        "<a href=\"https://colab.research.google.com/github/JJUNGSUNGHUN/firstcord/blob/main/My1st_Code.ipynb\" target=\"_parent\"><img src=\"https://colab.research.google.com/assets/colab-badge.svg\" alt=\"Open In Colab\"/></a>"
      ]
    },
    {
      "cell_type": "markdown",
      "source": [
        "1.나의 생의 첫 코드작성(Hello World)"
      ],
      "metadata": {
        "id": "Iias6S0nhA4S"
      }
    },
    {
      "cell_type": "markdown",
      "source": [
        "2. 사칙연산 (+, -, *,/ )"
      ],
      "metadata": {
        "id": "xIn9MN6XkLtm"
      }
    },
    {
      "cell_type": "code",
      "source": [
        "print (4+4, 4-2, 4*4, 4//2)\n",
        "\n",
        "\n"
      ],
      "metadata": {
        "colab": {
          "base_uri": "https://localhost:8080/"
        },
        "id": "_NIOYZyrkqS9",
        "outputId": "6fd62a99-3c5e-4128-a7c3-a50f4aeb5809"
      },
      "execution_count": 4,
      "outputs": [
        {
          "output_type": "stream",
          "name": "stdout",
          "text": [
            "8 2 16 2\n"
          ]
        }
      ]
    },
    {
      "cell_type": "code",
      "execution_count": 1,
      "metadata": {
        "colab": {
          "base_uri": "https://localhost:8080/"
        },
        "id": "555GsLKBcPGo",
        "outputId": "37d18eaf-9b1b-4712-8a9e-bc5b94c795d2"
      },
      "outputs": [
        {
          "output_type": "stream",
          "name": "stdout",
          "text": [
            "hello word\n"
          ]
        }
      ],
      "source": [
        "print(\"hello word\")"
      ]
    }
  ]
}